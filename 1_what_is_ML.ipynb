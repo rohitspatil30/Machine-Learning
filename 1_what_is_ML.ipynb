{
 "cells": [
  {
   "cell_type": "markdown",
   "metadata": {},
   "source": [
    "**What is Machine learning?**\n",
    "\n",
    "The Science of designing system which have the ability to figure out the approach or the patterns to get the desired output for any input provided without explicitly programming the machine to do so.\n",
    "\n",
    "In traditional programming we explicitly mention the way in which we want the ouput\n",
    "\n",
    "example : if( a> b) then->TASK else if(b>c) then->TASK else ->TASK \n",
    "\n",
    "but what if the pattern changes will you change the code? instead train the machine that will predict the output by himself even after the input changes.\n",
    "\n",
    "\n"
   ]
  },
  {
   "cell_type": "markdown",
   "metadata": {},
   "source": [
    "The Machine learning or the data analyst needs a lot of **USEFUL DATA** to work on wihtou USEFUL DATA the data cannot be used to train the machine. Cleaning and labelling the data before feeding it to the machines is the most important work for mle and ds.\n",
    "\n",
    "-------------------------------------------------------------------------------------------------------\n",
    "\n"
   ]
  },
  {
   "cell_type": "markdown",
   "metadata": {},
   "source": [
    "**Types of machine learning:**\n",
    "\n",
    "There are 3 types of machine learning.\n",
    "\n",
    "1. **Supervised learning** -  In theis the data is having the labels to which category it belogs to, so that the prediction or analysis of such type of data becomes easier, example -  number of hours vs exam results, here we can create a corelation between the tpyes of data because we know that there are only 2 types of data present.\n",
    "\n",
    "types of Supervised machine learning : \n",
    "\n",
    "1.1 **Classification**:  here we have labelled data such as cat and dog on every image. now we know there are 2 types of data input cat and dog, and we classify them.\n",
    "\n",
    "1.2 **linear regression**: same example of number of hours vs exam results.\n",
    "\n",
    "2. **Unsupervised learning** :  In this type there is no labels provided just the input in some random order here it is the job of machine to categorize the data first and then move for prediction or corelation between the data.\n",
    "\n",
    "types of unsupervised learning : \n",
    "\n",
    "2.1 **Clustering**:  machine on seeing the code divides the data into various clusters or groups based on the similarites between them. \n",
    "\n",
    "2.2 **Association** :  in this the machine tries to associate the various types of data into a meaning association so that the prediction of the data can be made\n",
    "\n",
    "Unsupervised data is more complex to understand and to work on. \n",
    "\n",
    "3. **Reinforcement learning** :  In this the machine learns by getting the feedback. It is a trial and error method. Example: playing chess and learining from the past mistakes to improve the moves is reinforcement learning.\n",
    "\n",
    "\n",
    "------------------------------------------------------------------------------------------------\n",
    "\n",
    "\n"
   ]
  },
  {
   "cell_type": "markdown",
   "metadata": {},
   "source": [
    "When you should not work the machine learning? -> when the traditinal way of coding will work for all the sets of inputs then you should go with machine learning only."
   ]
  },
  {
   "cell_type": "markdown",
   "metadata": {},
   "source": [
    "Example :  Addition of 2 numbers we know that whatever input we have we are going to add it.here there is no need for machine learning.\n"
   ]
  },
  {
   "cell_type": "code",
   "execution_count": 1,
   "metadata": {},
   "outputs": [
    {
     "name": "stdout",
     "output_type": "stream",
     "text": [
      "10\n"
     ]
    }
   ],
   "source": [
    "\n",
    "num1 = (int(input(\"enter number 1: \")))\n",
    "num2 = (int(input(\"enter number 2: \")))\n",
    "print(num1+num2)\n"
   ]
  },
  {
   "cell_type": "markdown",
   "metadata": {},
   "source": [
    "Main Types of machine learning problems:\n",
    "\n",
    "1.Supervised machine learning problem: In this type of problem the data is labelled and the machine gets the pattern and predicts the output.\n",
    "\n",
    "There are 2 types of supervised\n",
    "\n",
    "1. Classification -> Binary classification ( yes/no this/that ? )\n",
    "                     and Multi-class classification (which one among these options? )\n",
    "2. linear regression -> predict house selling prices based on given features.\n",
    "            features -> location, rooms, area, furnished or not.\n",
    "\n",
    "NOTE: In machine learning the labels are outputs, and the features are the inputs.\n",
    "more the features more accurate the prediction of labelled data.\n",
    "\n",
    "\n",
    "2.Unsupervised learning problem :  Here we don't know what could be the possible ouput so we focus on the inputs and its feature to find the similar pattern in the data, so that we can group them.\n",
    "\n",
    "\n",
    "**LABELLED DATA**\n",
    "\n",
    "In machine learning the features arre the inputs we give to the machine, it is basically the qualities \n",
    "of the data. But the data we give as the output to the machine to train on so that it will give us the similar results by recongnising the pattern between featured variables and the target variable have 2 types. one type of the data have the label on it. Example: we give an image of the cat to the machine and name it cat, so that the machine can classify it as a name. such data is called as labelled data.\n",
    "\n",
    "**UNLABELLED DATA**\n",
    "\n",
    "when the images or any data doesnt specify what the data is all about and what to call this when the user ask for the output is called unlabelled data. example, images withour label of what the images is all about. In this case the machine have to work hard to classify them, it looks for the similarites and hence use clustering techniques to start giving the output, but still dont know what it is called.\n",
    "\n",
    "---------------------------------------------------------------------------------------------------\n",
    "\n",
    "**Transfer learning**: \n",
    "\n",
    "when we use a trained machine to solve or train on similar problems, which do not require the retraining of the model from the scratch is called as the transfer learning, example: machine is trained to recognize shapes can be used to recognize books, balls, pizza slices etc.\n",
    "\n",
    "---------------------------------------------------------------------------------------------------\n",
    "\n"
   ]
  },
  {
   "cell_type": "markdown",
   "metadata": {},
   "source": [
    "**DATA**\n",
    "\n",
    "there are 2 types of data in machine learning : structured and unstructured data.\n",
    "\n",
    "In machine learning, structured data refers to data that is organized and formatted in a specific way, typically in a tabular format with rows and columns. This type of data is highly organized and follows a predefined schema. Examples of structured data include databases, spreadsheets, and CSV files.\n",
    "\n",
    "On the other hand, unstructured data refers to data that does not have a predefined structure or organization. It can come in various forms, such as text documents, images, audio files, videos, social media posts, and more. Unstructured data does not fit neatly into a tabular format and often requires additional processing and analysis to extract meaningful insights.\n",
    "\n",
    "Both structured and unstructured data play important roles in machine learning. However, handling unstructured data poses additional challenges as it requires techniques like natural language processing (NLP), computer vision, or audio processing to extract relevant features and patterns.\n",
    "\n"
   ]
  },
  {
   "cell_type": "markdown",
   "metadata": {},
   "source": [
    "again there are two types further of these 2 types:\n",
    "\n",
    "1) Static data: data the does not change over time example: Budget of last year is the static data that can be used to predict the budget of next year.\n",
    "\n",
    "2) Streaming data: data that changes due to change in some relatable factors or time.\n",
    "example: time, stock market prices that might change due to the new headlines.\n",
    "\n",
    "-------------------------------------------------------------------------------------------\n"
   ]
  },
  {
   "cell_type": "markdown",
   "metadata": {},
   "source": [
    "**EVALUTAION**\n",
    "\n",
    "HOW MUCH ARE WE SATISFIED WITH THE RESULT. if we have to detect the heart attack risk then we should be able to achieve atleast 95 percent accuracy, because it is a matter of lives.\n",
    "\n",
    "but if we want to just have cat and dog prediction then our success culd be around 85-90% which is good.\n",
    "\n",
    "so evaulation is define your success.\n",
    "\n",
    "-------------------------------------------------------------------------------------------"
   ]
  },
  {
   "cell_type": "markdown",
   "metadata": {},
   "source": [
    "**FEATURES**\n",
    "\n",
    "features that we already know is the qualities that a data describes about itself which helps the machine to get better accuracy.\n",
    "\n",
    "yes, features are good, but over featuring is bad, coz it will increase the amount of memorizing and confusing for the parameter to divide on .example: blue, dark blue, sky blue, navy blue, cyan, faint blue, dark navy blue, peacock blue, crimpson blue, and many more data will confuse the machine.\n",
    "\n",
    "**feature engineering**: we know our job is to provide featured variable and corresponding target variable (label) , to get the labelled data for new featured data.but when we make soe variables by just seeing the current features available. this is called as feature engineering.Deriving for new variables from existing vairables is calles as feature engineering.\n",
    "\n",
    "**feature coverage**: Ensuring that all the features have equal coverage is called as the feature coverage.\n",
    "\n",
    "-------------------------------------------------------------------------------------------"
   ]
  },
  {
   "cell_type": "markdown",
   "metadata": {},
   "source": [
    "**MODELLING**:\n",
    "\n",
    "lets undestand the seperation of the data.\n",
    "100 data -> 40 training of the data. 20 validation, 40 testing.\n",
    "\n",
    "**Generalisation**: The ability of the machine to to perform well on unseen data is called as generalisation.\n",
    "\n",
    "**Training data**: Data which is meant for training the machine is called as training data.\n",
    "\n",
    "**Validationg data**: Data which is meant for solving the doubts or correccting the mistake, to make a well served training on various data, before test.\n",
    "\n",
    "**Testing data**: The data which is kept secret till now is now used to test the machine, how well it performs.\n",
    "\n",
    "-------------------------------------------------------------------------------------------\n"
   ]
  },
  {
   "cell_type": "markdown",
   "metadata": {},
   "source": [
    "**The modelling includes - > Choosing a model, training a model, tuning a model, testing a model.**\n",
    "\n",
    "-------------------------------------------------------------------------------------------\n"
   ]
  },
  {
   "cell_type": "markdown",
   "metadata": {},
   "source": [
    "**Expriment and comparison**:\n",
    "\n",
    "After getting the result here we can have 3 types of results again:"
   ]
  },
  {
   "cell_type": "markdown",
   "metadata": {},
   "source": [
    "1. **UNDERFITTING**\n",
    "\n",
    "Underfitting and overfitting are two common phenomena that occur in machine learning models during the training process.\n",
    "\n",
    "Underfitting occurs when a model is too simple to capture the underlying patterns and relationships present in the training data. It often leads to high bias and low variance. In other words, an underfit model fails to learn from the training data and performs poorly on both the training and testing datasets. Underfitting can be caused by using an overly simple model or insufficient training data.\n",
    "\n",
    "\n",
    "2. **OVERFITTING**\n",
    "\n",
    "Overfitting, on the other hand, occurs when a model becomes too complex and starts to memorize the training data instead of learning the underlying patterns. This results in low bias and high variance. An overfit model performs exceedingly well on the training data but fails to generalize to unseen data, leading to poor performance on the testing dataset. Overfitting can be caused by using a complex model, having too many features, or having insufficient training data relative to the model's complexity.\n",
    "\n",
    "Both underfitting and overfitting are undesirable as they indicate a lack of generalization ability in the model. The goal in machine learning is to find the right balance between the two, known as the optimal trade-off, where the model can generalize well to unseen data. Techniques such as regularization, cross-validation, and feature selection can help mitigate the issues of underfitting and overfitting.\n",
    "\n",
    "\n",
    "**Experimentaion** \n",
    "\n",
    "if your are getting an underfiiting results then \n",
    "\n",
    "try training for longer time.\n",
    "try using a complex model.\n",
    "try reduce amount of features.\n",
    "\n",
    "if you are getting overfitting then \n",
    "\n",
    "try using less comlex model\n",
    "collect more data to make it vaied data set.\n",
    "\n",
    "----------------------------------------------------------------------------------------\n",
    "\n"
   ]
  },
  {
   "cell_type": "markdown",
   "metadata": {},
   "source": [
    "-------------------------------------------------------------------------------------"
   ]
  }
 ],
 "metadata": {
  "kernelspec": {
   "display_name": "Python 3",
   "language": "python",
   "name": "python3"
  },
  "language_info": {
   "codemirror_mode": {
    "name": "ipython",
    "version": 3
   },
   "file_extension": ".py",
   "mimetype": "text/x-python",
   "name": "python",
   "nbconvert_exporter": "python",
   "pygments_lexer": "ipython3",
   "version": "3.10.11"
  },
  "orig_nbformat": 4
 },
 "nbformat": 4,
 "nbformat_minor": 2
}
