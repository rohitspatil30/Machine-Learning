{
 "cells": [
  {
   "cell_type": "markdown",
   "id": "9cbc4264-79ef-4019-a537-56dc7ae9f4d5",
   "metadata": {},
   "source": [
    "# Heading: \"# text\"\n",
    "\n",
    "# **heading Bold** \"# **text**\"\n",
    "\n",
    "# *Heading Italics* \"# *text*\"\n",
    "\n",
    "## Subheading \"## text\"\n",
    "\n",
    "## **Subheading bold** \"## **text**\"\n",
    "\n",
    "## *Subheading Italics* \"## *text*\"\n",
    "\n",
    "Normal text \n",
    "\n",
    "**bold text**\n",
    "\n",
    "*Italics Text*\n",
    "\n",
    "some extra points to note:\n",
    "\n",
    "location of the jupyter notebook is D:\\languages\\python\\machine_learing\\Notes\\env  for activation\n",
    "\n",
    "note that, all the env files and the data science tools are installed in the 'Notes' folder of machine_learning folder.\n",
    "\n",
    "esc+y for code mode and esc+m for markddown mode.\n",
    "\n",
    "ctrl + s to save the jupyter notebook.\n",
    "\n",
    "shift enter to just allow the cell to get executed.\n",
    "\n",
    "'a' to add a cell above \n",
    "\n",
    "'b' to add cell below\n",
    "\n",
    "'dd' to delete a cell\n",
    "\n",
    "'j \\ k' to move up and down the cell\n",
    "\n"
   ]
  },
  {
   "cell_type": "code",
   "execution_count": 1,
   "id": "db09a861-c85c-49d8-9f44-1da8302f019a",
   "metadata": {},
   "outputs": [
    {
     "name": "stdout",
     "output_type": "stream",
     "text": [
      "hello World\n"
     ]
    }
   ],
   "source": [
    "print(\"hello World\") # the kernel responsible for both the markdown as well as the code running state."
   ]
  },
  {
   "cell_type": "code",
   "execution_count": 2,
   "id": "0d2ad9c1-fe13-4e22-8575-8d0b8e0db098",
   "metadata": {},
   "outputs": [],
   "source": [
    "#lets end this tutorial by marking the successful installation of the datascience tools \n",
    "\n",
    "import pandas as pd\n",
    "import sklearn as sk\n",
    "import matplotlib.pyplot as plt\n",
    "import numpy as np"
   ]
  },
  {
   "cell_type": "code",
   "execution_count": 3,
   "id": "35abf664-1273-40d7-be1e-ab1891e02863",
   "metadata": {},
   "outputs": [
    {
     "name": "stdout",
     "output_type": "stream",
     "text": [
      "Successfull installation!\n"
     ]
    }
   ],
   "source": [
    "print(\"Successfull installation!\")"
   ]
  }
 ],
 "metadata": {
  "kernelspec": {
   "display_name": "Python 3 (ipykernel)",
   "language": "python",
   "name": "python3"
  },
  "language_info": {
   "codemirror_mode": {
    "name": "ipython",
    "version": 3
   },
   "file_extension": ".py",
   "mimetype": "text/x-python",
   "name": "python",
   "nbconvert_exporter": "python",
   "pygments_lexer": "ipython3",
   "version": "3.10.4"
  },
  "widgets": {
   "application/vnd.jupyter.widget-state+json": {
    "state": {},
    "version_major": 2,
    "version_minor": 0
   }
  }
 },
 "nbformat": 4,
 "nbformat_minor": 5
}
